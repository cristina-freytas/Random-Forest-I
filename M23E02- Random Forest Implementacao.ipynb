{
 "cells": [
  {
   "cell_type": "markdown",
   "id": "eb482d78-91c8-4649-9f44-696b3fd36f6a",
   "metadata": {},
   "source": [
    "# Exemplo de implementação de Random Forest\n",
    "### Referência: \n",
    "### https://estatsite.com.br/2020/09/27/random-forest-em-python/\n"
   ]
  },
  {
   "cell_type": "code",
   "execution_count": 10,
   "id": "77bdcce0-c34f-4bee-bad5-75abbc1cf06c",
   "metadata": {},
   "outputs": [],
   "source": [
    "# bibliotecas\n",
    "import pandas as pd\n",
    "import numpy as np\n",
    "import matplotlib.pyplot as plt\n",
    "from sklearn import datasets \n",
    "from sklearn.ensemble import RandomForestClassifier\n",
    "from sklearn.model_selection import train_test_split\n",
    "from sklearn.ensemble import BaggingClassifier\n",
    "from sklearn.tree import DecisionTreeClassifier\n",
    "from sklearn.metrics import accuracy_score\n",
    "from sklearn.metrics import accuracy_score, recall_score, confusion_matrix"
   ]
  },
  {
   "cell_type": "code",
   "execution_count": 11,
   "id": "2856a72c-c86e-4d50-8a54-1481644f443e",
   "metadata": {},
   "outputs": [],
   "source": [
    "# Carregando o conjunto de dados \n",
    "\n",
    "X, y = datasets.load_wine(as_frame=True, return_X_y = True)\n",
    "\n"
   ]
  },
  {
   "cell_type": "code",
   "execution_count": 16,
   "id": "f71f3718-2805-4f39-b701-239c2011ca0a",
   "metadata": {},
   "outputs": [
    {
     "name": "stdout",
     "output_type": "stream",
     "text": [
      "Acurácia:\n",
      "1.0\n",
      "Média:\n",
      "1.0\n",
      "Matriz de Confusão:\n",
      "[[14  0  0]\n",
      " [ 0 14  0]\n",
      " [ 0  0  8]]\n"
     ]
    }
   ],
   "source": [
    "# Dividir os dados em conjunto de treino e teste\n",
    "\n",
    "X_train, X_test, y_train, y_test = train_test_split(X, y, test_size=0.2, random_state=42)\n",
    "\n",
    "# instanciar o classificador\n",
    "\n",
    "clf = RandomForestClassifier()\n",
    "\n",
    "# treinar a base de treino\n",
    "clf.fit(X_train, y_train)\n",
    "\n",
    "# aplicar o modelo treinado no teste\n",
    "y_pred=clf.predict(X_test)\n",
    "\n",
    "# saídas\n",
    "print(\"Acurácia:\")\n",
    "print(accuracy_score(y_test, y_pred))\n",
    "print(\"Média:\")\n",
    "print(recall_score(y_test, y_pred, average='macro'))\n",
    "print(\"Matriz de Confusão:\")\n",
    "print(confusion_matrix(y_test, y_pred))\n"
   ]
  },
  {
   "cell_type": "code",
   "execution_count": null,
   "id": "130f57e2-4d61-4aed-83f9-b13fa6d92fc3",
   "metadata": {},
   "outputs": [],
   "source": []
  },
  {
   "cell_type": "code",
   "execution_count": null,
   "id": "34463e4a-2efe-4ecc-aacc-77e0198bca3d",
   "metadata": {},
   "outputs": [],
   "source": []
  }
 ],
 "metadata": {
  "kernelspec": {
   "display_name": "Python 3 (ipykernel)",
   "language": "python",
   "name": "python3"
  },
  "language_info": {
   "codemirror_mode": {
    "name": "ipython",
    "version": 3
   },
   "file_extension": ".py",
   "mimetype": "text/x-python",
   "name": "python",
   "nbconvert_exporter": "python",
   "pygments_lexer": "ipython3",
   "version": "3.11.7"
  }
 },
 "nbformat": 4,
 "nbformat_minor": 5
}
